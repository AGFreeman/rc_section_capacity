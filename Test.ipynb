{
 "cells": [
  {
   "cell_type": "code",
   "execution_count": 165,
   "id": "045d1947-db8e-42de-a92b-916647f5cea0",
   "metadata": {},
   "outputs": [
    {
     "name": "stdout",
     "output_type": "stream",
     "text": [
      "The autoreload extension is already loaded. To reload it, use:\n",
      "  %reload_ext autoreload\n"
     ]
    }
   ],
   "source": [
    "%load_ext autoreload\n",
    "%autoreload 2"
   ]
  },
  {
   "cell_type": "code",
   "execution_count": 166,
   "id": "5cf18c38-2068-4463-9bfd-7d26337b2918",
   "metadata": {},
   "outputs": [],
   "source": [
    "%matplotlib inline"
   ]
  },
  {
   "cell_type": "code",
   "execution_count": 221,
   "id": "0b69655a-501b-47a3-a85f-5fefa36b9ea0",
   "metadata": {},
   "outputs": [],
   "source": [
    "import rich\n",
    "from eng_module import utils as ut\n",
    "import rc_section_capacity_module as rcscm\n",
    "# from rc_section_capacity_module import concrete_section_analysis\n",
    "\n",
    "import pandas as pd\n",
    "\n",
    "from matplotlib.figure import Figure\n",
    "\n",
    "import plotly.express as px\n",
    "\n",
    "from sectionproperties.pre.library import rectangular_section\n",
    "import concreteproperties.stress_strain_profile as ssp\n",
    "\n",
    "from concreteproperties import (\n",
    "    Concrete,\n",
    "    ConcreteSection,\n",
    "    SteelBar,\n",
    "    add_bar_circular_array,\n",
    "    add_bar_rectangular_array,\n",
    ")\n",
    "from plotly import graph_objects as go\n",
    "\n",
    "\n",
    "\n",
    "from eng_module import utils as ut\n",
    "\n",
    "from rich import print\n",
    "\n",
    "import numpy as np\n",
    "\n",
    "import hashlib as hl"
   ]
  },
  {
   "cell_type": "code",
   "execution_count": 168,
   "id": "f0902f01-a22c-49b3-b012-4750d06d83ae",
   "metadata": {},
   "outputs": [],
   "source": [
    "    conc_class = \"B30\"\n",
    "    conc_Rb = 17\n",
    "    conc_Rbt = 1.15\n",
    "    conc_eb1 = 0.0005230769230769\n",
    "    conc_eb2_short = 0.0035\n",
    "\n",
    "    rebar_class = \"A500\"\n",
    "    rebar_Rs = 435\n",
    "    rebar_es2 = 0.025\n",
    "\n",
    "    concrete_material = Concrete(\n",
    "        name=conc_class,\n",
    "        density=2.4e-6,\n",
    "        stress_strain_profile=ssp.ConcreteLinear(elastic_modulus=34.8e3),\n",
    "        ultimate_stress_strain_profile=ssp.BilinearStressStrain(\n",
    "            compressive_strength=conc_Rb,\n",
    "            compressive_strain=conc_eb1,\n",
    "            ultimate_strain=conc_eb2_short,\n",
    "        ),\n",
    "        flexural_tensile_strength=conc_Rbt,\n",
    "        colour=\"lightgrey\",\n",
    "    )\n",
    "\n",
    "    rebar_material = SteelBar(\n",
    "        name=rebar_class,\n",
    "        density=7.85e-6,\n",
    "        stress_strain_profile=ssp.SteelElasticPlastic(\n",
    "            yield_strength=rebar_Rs,\n",
    "            elastic_modulus=200e3,\n",
    "            fracture_strain=rebar_es2,\n",
    "        ),\n",
    "        colour=\"grey\",\n",
    "    )"
   ]
  },
  {
   "cell_type": "code",
   "execution_count": 169,
   "id": "80d7e5d7-f0f9-4899-a757-e9fd0f456676",
   "metadata": {},
   "outputs": [],
   "source": [
    "    h =  500\n",
    "    b =  100\n",
    "    c_mat =  concrete_material\n",
    "    nrr_top =  0\n",
    "    nrc_top =  1\n",
    "    dr_top =  20\n",
    "    src_top =  70\n",
    "    cc_top =  35\n",
    "    nrr_bot =  1\n",
    "    nrc_bot =  1\n",
    "    dr_bot =  20\n",
    "    src_bot =  70\n",
    "    cc_bot =  50\n",
    "    r_mat =  rebar_material\n",
    "    nrc_side = 0\n",
    "    nrr_side = 0\n",
    "    dr_side = 0\n",
    "    src_side = 0\n",
    "    srr_side = 0\n",
    "    cc_side = 10"
   ]
  },
  {
   "cell_type": "code",
   "execution_count": 224,
   "id": "5cb67a54-b12c-40e8-952a-66fcd69eba7e",
   "metadata": {},
   "outputs": [
    {
     "data": {
      "image/png": "[encoded data removed]",
      "text/plain": [
       "<Figure size 640x480 with 1 Axes>"
      ]
     },
     "metadata": {},
     "output_type": "display_data"
    },
    {
     "ename": "AttributeError",
     "evalue": "'Figure' object has no attribute 'patch'",
     "output_type": "error",
     "traceback": [
      "\u001b[1;31m---------------------------------------------------------------------------\u001b[0m",
      "\u001b[1;31mAttributeError\u001b[0m                            Traceback (most recent call last)",
      "Cell \u001b[1;32mIn[224], line 22\u001b[0m\n\u001b[0;32m      1\u001b[0m sec, fig \u001b[38;5;241m=\u001b[39m rcscm\u001b[38;5;241m.\u001b[39mcreate_rectangular_section(h,\n\u001b[0;32m      2\u001b[0m     b,\n\u001b[0;32m      3\u001b[0m     c_mat,\n\u001b[1;32m   (...)\u001b[0m\n\u001b[0;32m     19\u001b[0m     srr_side,\n\u001b[0;32m     20\u001b[0m     cc_side)\n\u001b[1;32m---> 22\u001b[0m \u001b[43mfig\u001b[49m\u001b[38;5;241;43m.\u001b[39;49m\u001b[43mpatch\u001b[49m\u001b[38;5;241m.\u001b[39mset_alpha(\u001b[38;5;241m0\u001b[39m)\n",
      "\u001b[1;31mAttributeError\u001b[0m: 'Figure' object has no attribute 'patch'"
     ]
    }
   ],
   "source": [
    "sec, fig = rcscm.create_rectangular_section(h,\n",
    "    b,\n",
    "    c_mat,\n",
    "    nrr_top,\n",
    "    nrc_top,\n",
    "    dr_top,\n",
    "    src_top,\n",
    "    cc_top,\n",
    "    nrr_bot,\n",
    "    nrc_bot,\n",
    "    dr_bot,\n",
    "    src_bot,\n",
    "    cc_bot,\n",
    "    r_mat,\n",
    "    nrc_side,\n",
    "    nrr_side,\n",
    "    dr_side,\n",
    "    src_side,\n",
    "    srr_side,\n",
    "    cc_side)\n",
    "\n",
    "fig.patch.set_alpha(0)"
   ]
  },
  {
   "cell_type": "code",
   "execution_count": 222,
   "id": "31f9f609-1a2e-4ea0-9cbc-8cdacc8ac066",
   "metadata": {},
   "outputs": [
    {
     "ename": "TypeError",
     "evalue": "object supporting the buffer API required",
     "output_type": "error",
     "traceback": [
      "\u001b[1;31m---------------------------------------------------------------------------\u001b[0m",
      "\u001b[1;31mTypeError\u001b[0m                                 Traceback (most recent call last)",
      "Cell \u001b[1;32mIn[222], line 1\u001b[0m\n\u001b[1;32m----> 1\u001b[0m \u001b[43mhl\u001b[49m\u001b[38;5;241;43m.\u001b[39;49m\u001b[43msha256\u001b[49m\u001b[43m(\u001b[49m\u001b[43msec\u001b[49m\u001b[43m)\u001b[49m\n",
      "\u001b[1;31mTypeError\u001b[0m: object supporting the buffer API required"
     ]
    }
   ],
   "source": [
    "hl.sha256("
   ]
  },
  {
   "cell_type": "code",
   "execution_count": 172,
   "id": "07381208-e458-4fd8-9fe3-d6d4f3b8d83e",
   "metadata": {},
   "outputs": [],
   "source": [
    "sag_res = sec.ultimate_bending_capacity()"
   ]
  },
  {
   "cell_type": "code",
   "execution_count": 173,
   "id": "db4cc133-3eb5-485d-a62c-d71883c4d498",
   "metadata": {},
   "outputs": [],
   "source": [
    "res = sag_res.m_x"
   ]
  },
  {
   "cell_type": "code",
   "execution_count": 174,
   "id": "46acd43b-2d77-45f6-bb5e-080d11194b5e",
   "metadata": {},
   "outputs": [
    {
     "data": {
      "text/plain": [
       "54625413.03703122"
      ]
     },
     "execution_count": 174,
     "metadata": {},
     "output_type": "execute_result"
    }
   ],
   "source": [
    "res"
   ]
  },
  {
   "cell_type": "code",
   "execution_count": 175,
   "id": "bb55f2a0-9ffb-46c5-a9ab-b3b919129be9",
   "metadata": {},
   "outputs": [
    {
     "ename": "AttributeError",
     "evalue": "'Figure' object has no attribute 'patches'",
     "output_type": "error",
     "traceback": [
      "\u001b[1;31m---------------------------------------------------------------------------\u001b[0m",
      "\u001b[1;31mAttributeError\u001b[0m                            Traceback (most recent call last)",
      "Cell \u001b[1;32mIn[175], line 1\u001b[0m\n\u001b[1;32m----> 1\u001b[0m patches \u001b[38;5;241m=\u001b[39m \u001b[43mfig\u001b[49m\u001b[38;5;241;43m.\u001b[39;49m\u001b[43mpatches\u001b[49m\n\u001b[0;32m      2\u001b[0m lines \u001b[38;5;241m=\u001b[39m fig\u001b[38;5;241m.\u001b[39mlines \n\u001b[0;32m      3\u001b[0m images \u001b[38;5;241m=\u001b[39m fig\u001b[38;5;241m.\u001b[39mimages\n",
      "\u001b[1;31mAttributeError\u001b[0m: 'Figure' object has no attribute 'patches'"
     ]
    }
   ],
   "source": [
    "patches = fig.patches\n",
    "lines = fig.lines \n",
    "images = fig.images\n",
    "collections = fig.collections\n",
    "artists = fig.artists\n",
    "containers = fig.containers"
   ]
  },
  {
   "cell_type": "code",
   "execution_count": null,
   "id": "2dbd5f42-86e7-478c-9846-ffcc11d67070",
   "metadata": {},
   "outputs": [],
   "source": [
    "print(\"Patches:\", patches)\n",
    "print(\"Lines:\", lines)\n",
    "print(\"Images:\", images)\n",
    "print(\"Collections:\", collections)\n",
    "print(\"Artists:\", artists)\n",
    "print(\"Containers:\", containers)"
   ]
  },
  {
   "cell_type": "code",
   "execution_count": null,
   "id": "a275b84b-e9e8-4d18-823e-764b7a9a8afc",
   "metadata": {},
   "outputs": [],
   "source": [
    "fig_plotly = go.Figure()\n",
    "\n",
    "for polygon in patches:\n",
    "    vertices = polygon.get_path().vertices\n",
    "    x_coords, y_coords = vertices[:, 0], vertices[:, 1]\n",
    "    print (x_coords, y_coords)\n",
    "    fig_plotly.add_scatter(\n",
    "        x=x_coords,\n",
    "        y=y_coords,\n",
    "        fill='toself',\n",
    "        fillcolor=\"rgba(255,0,0,1)\",\n",
    "        line=dict(color=\"rgba(0,0,0,0)\", width=2),\n",
    "    )\n",
    "\n",
    "shapes = []\n",
    "for col in fig.collections:\n",
    "    paths_list = [path.get_paths() for path in fig.collections]\n",
    "    # print(paths)\n",
    "    for paths in paths_list:\n",
    "        for p in paths:\n",
    "            vertices = p.vertices\n",
    "            x_coords = vertices[:, 0].tolist() + [vertices[0, 0]]  # Closing the loop\n",
    "            y_coords = vertices[:, 1].tolist() + [vertices[0, 1]]  # Closing the loop\n",
    "            shapes.append(go.layout.Shape(\n",
    "                type=\"path\",\n",
    "                path=f\"M {' L '.join([f'{x},{y}' for x, y in zip(x_coords, y_coords)])} Z\",\n",
    "                fillcolor=\"rgba(0,0,255,1)\",\n",
    "                line=dict(color=\"rgba(255,0,0,0)\"),  # No edge line\n",
    "            ))\n",
    "            \n",
    "for shape in shapes:\n",
    "    fig_plotly.add_shape(shape)\n",
    "\n",
    "fig_plotly.layout.xaxis.scaleanchor = 'y'\n",
    "fig_plotly.layout.xaxis.scaleratio = 1\n",
    "\n",
    "fig_plotly.show()\n"
   ]
  },
  {
   "cell_type": "code",
   "execution_count": null,
   "id": "333cd34e-1322-49c8-989e-89228e0d8b6e",
   "metadata": {},
   "outputs": [],
   "source": []
  },
  {
   "cell_type": "code",
   "execution_count": null,
   "id": "6eef2847-4b45-4ca0-aea6-9afc5c478f67",
   "metadata": {},
   "outputs": [],
   "source": [
    "rcscm.define_concrete_material(no_tension=True)"
   ]
  },
  {
   "cell_type": "code",
   "execution_count": null,
   "id": "434f3fdb-f772-46b8-bc45-2d7144691e15",
   "metadata": {},
   "outputs": [],
   "source": [
    "np.arccos(0)"
   ]
  },
  {
   "cell_type": "code",
   "execution_count": null,
   "id": "272c6b78-7840-45ec-862f-1c7d27ccc472",
   "metadata": {},
   "outputs": [],
   "source": [
    "np.arccos(1)"
   ]
  },
  {
   "cell_type": "code",
   "execution_count": null,
   "id": "5dcd4553-25a9-45c9-9a79-1a25a90408a4",
   "metadata": {},
   "outputs": [],
   "source": [
    "np.cos(0)"
   ]
  },
  {
   "cell_type": "code",
   "execution_count": null,
   "id": "2eacb974-205e-4ec8-bcc6-ad11fce4c5d2",
   "metadata": {},
   "outputs": [],
   "source": [
    "m_x = [1, -1, -1, 1]\n",
    "m_y = [-1, -1, 1, 1]"
   ]
  },
  {
   "cell_type": "code",
   "execution_count": null,
   "id": "4dc7a058-e58b-472f-8824-21279c74a5a7",
   "metadata": {},
   "outputs": [],
   "source": [
    "(np.arctan2(m_x, m_y) - np.pi /2)/np.pi"
   ]
  },
  {
   "cell_type": "code",
   "execution_count": null,
   "id": "0316444c-3f71-4639-b7f7-ce12e5433bc3",
   "metadata": {},
   "outputs": [],
   "source": [
    "theta_list = range(,)"
   ]
  },
  {
   "cell_type": "code",
   "execution_count": null,
   "id": "8c09380c-4657-4ffd-bac9-486c3347a33a",
   "metadata": {},
   "outputs": [],
   "source": [
    "np.arctan(1)/np.pi"
   ]
  },
  {
   "cell_type": "code",
   "execution_count": null,
   "id": "9987217f-17bc-424c-a05a-666a8a8af162",
   "metadata": {},
   "outputs": [],
   "source": [
    "sec"
   ]
  },
  {
   "cell_type": "code",
   "execution_count": null,
   "id": "e1b3afd5-6be1-43dc-a81e-b8bbd70d7b69",
   "metadata": {},
   "outputs": [],
   "source": [
    "val.append(1 for l in list)"
   ]
  },
  {
   "cell_type": "code",
   "execution_count": null,
   "id": "ae36e6a9-e8c5-4186-906f-40a4236caf5f",
   "metadata": {},
   "outputs": [],
   "source": [
    "val"
   ]
  },
  {
   "cell_type": "code",
   "execution_count": 194,
   "id": "5984eeeb-1737-47b4-847e-7f27fce2bcd2",
   "metadata": {},
   "outputs": [],
   "source": [
    "n=3"
   ]
  },
  {
   "cell_type": "code",
   "execution_count": 195,
   "id": "5848440f-78cc-4ead-8382-99735baa5e20",
   "metadata": {},
   "outputs": [],
   "source": [
    "alfa = np.linspace(0, 2 * np.pi, 8, endpoint=True)\n",
    "circ_x = np.cos(alfa)\n",
    "circ_y = np.sin(alfa)\n",
    "z_list = np.linspace(-5, 5, n, endpoint=False)\n",
    "scale_list = np.linspace(-5, 5, n, endpoint=False)"
   ]
  },
  {
   "cell_type": "code",
   "execution_count": 196,
   "id": "e8a09176-50fb-4fc7-b242-88592b5f80da",
   "metadata": {},
   "outputs": [],
   "source": [
    "traces = []\n",
    "for z in z_list:\n",
    "    x = circ_x*np.cos(z)\n",
    "    y = circ_y*np.cos(z)\n",
    "    z = [z] * len(x)\n",
    "    plot.add_scatter3d(x=x, y=y, z=z, mode='lines')\n",
    "    plot.add_mesh3d()\n",
    "    traces.append(list(zip(x,y,z)))"
   ]
  },
  {
   "cell_type": "code",
   "execution_count": 197,
   "id": "f5533247-8580-41b7-a4b7-dc21440a51dc",
   "metadata": {},
   "outputs": [],
   "source": [
    "trace_pairs_vertices = []\n",
    "for i in range(len(traces)-1):\n",
    "    trace_pairs_vertices.append(traces[i] + traces[i+1])"
   ]
  },
  {
   "cell_type": "code",
   "execution_count": 198,
   "id": "8b08de3b-26d2-488e-bdb2-9980e57f7f0d",
   "metadata": {},
   "outputs": [],
   "source": [
    "faces = []\n",
    "num_vertices_per_trace = len(traces[0])\n",
    "for i in range(num_vertices_per_trace - 1):\n",
    "    faces.append([i, i + 1, i + num_vertices_per_trace])\n",
    "    faces.append([i + num_vertices_per_trace, i + 1 + num_vertices_per_trace, i + 1])"
   ]
  },
  {
   "cell_type": "code",
   "execution_count": 203,
   "id": "88faccb0-2155-4ebd-b5f9-a117ea7dce1f",
   "metadata": {},
   "outputs": [],
   "source": [
    "plot = go.Figure()\n",
    "for trace_pair_vertices in trace_pairs_vertices:\n",
    "    # print(trace_pair_vertices)\n",
    "    plot.add_mesh3d(x=[v[0] for v in trace_pair_vertices],\n",
    "                     y=[v[1] for v in trace_pair_vertices],\n",
    "                     z=[v[2] for v in trace_pair_vertices],\n",
    "                     i=[f[0] for f in faces],\n",
    "                     j=[f[1] for f in faces],\n",
    "                     k=[f[2] for f in faces],\n",
    "                     color='lightblue',  # Color of the face\n",
    "                     opacity=1)        # Opacity of the face"
   ]
  },
  {
   "cell_type": "code",
   "execution_count": 204,
   "id": "d6814f93-347c-46bf-9966-5eac71751dee",
   "metadata": {},
   "outputs": [
    {
     "data": {
      "application/vnd.plotly.v1+json": {
       "config": {
        "plotlyServerURL": "https://plot.ly"
       },
       "data": [
        {
         "color": "lightblue",
         "i": [
          0,
          8,
          1,
          9,
          2,
          10,
          3,
          11,
          4,
          12,
          5,
          13,
          6,
          14
         ],
         "j": [
          1,
          9,
          2,
          10,
          3,
          11,
          4,
          12,
          5,
          13,
          6,
          14,
          7,
          15
         ],
         "k": [
          8,
          1,
          9,
          2,
          10,
          3,
          11,
          4,
          12,
          5,
          13,
          6,
          14,
          7
         ],
         "opacity": 1,
         "type": "mesh3d",
         "x": [
          0.28366218546322625,
          0.17686047980928227,
          -0.06312077443736636,
          -0.25557079810352895,
          -0.255570798103529,
          -0.06312077443736643,
          0.1768604798092822,
          0.28366218546322625,
          -0.09572354801437544,
          -0.059682655984697915,
          0.021300493305770923,
          0.08624393668611469,
          0.0862439366861147,
          0.021300493305770943,
          -0.059682655984697894,
          -0.09572354801437544
         ],
         "y": [
          0,
          0.2217760269808354,
          0.2765501822385964,
          0.12307640967504288,
          -0.12307640967504281,
          -0.2765501822385964,
          -0.22177602698083543,
          -6.947719749333657e-17,
          0,
          -0.07483968345117878,
          -0.0933235588122916,
          -0.04153289093407633,
          0.04153289093407631,
          0.0933235588122916,
          0.07483968345117879,
          2.3445507335766573e-17
         ],
         "z": [
          -5,
          -5,
          -5,
          -5,
          -5,
          -5,
          -5,
          -5,
          -1.6666666666666665,
          -1.6666666666666665,
          -1.6666666666666665,
          -1.6666666666666665,
          -1.6666666666666665,
          -1.6666666666666665,
          -1.6666666666666665,
          -1.6666666666666665
         ]
        },
        {
         "color": "lightblue",
         "i": [
          0,
          8,
          1,
          9,
          2,
          10,
          3,
          11,
          4,
          12,
          5,
          13,
          6,
          14
         ],
         "j": [
          1,
          9,
          2,
          10,
          3,
          11,
          4,
          12,
          5,
          13,
          6,
          14,
          7,
          15
         ],
         "k": [
          8,
          1,
          9,
          2,
          10,
          3,
          11,
          4,
          12,
          5,
          13,
          6,
          14,
          7
         ],
         "opacity": 1,
         "type": "mesh3d",
         "x": [
          -0.09572354801437544,
          -0.059682655984697915,
          0.021300493305770923,
          0.08624393668611469,
          0.0862439366861147,
          0.021300493305770943,
          -0.059682655984697894,
          -0.09572354801437544,
          -0.09572354801437588,
          -0.05968265598469819,
          0.02130049330577102,
          0.08624393668611509,
          0.0862439366861151,
          0.021300493305771044,
          -0.05968265598469817,
          -0.09572354801437588
         ],
         "y": [
          0,
          -0.07483968345117878,
          -0.0933235588122916,
          -0.04153289093407633,
          0.04153289093407631,
          0.0933235588122916,
          0.07483968345117879,
          2.3445507335766573e-17,
          0,
          -0.07483968345117913,
          -0.09332355881229203,
          -0.04153289093407653,
          0.0415328909340765,
          0.09332355881229203,
          0.07483968345117914,
          2.344550733576668e-17
         ],
         "z": [
          -1.6666666666666665,
          -1.6666666666666665,
          -1.6666666666666665,
          -1.6666666666666665,
          -1.6666666666666665,
          -1.6666666666666665,
          -1.6666666666666665,
          -1.6666666666666665,
          1.666666666666667,
          1.666666666666667,
          1.666666666666667,
          1.666666666666667,
          1.666666666666667,
          1.666666666666667,
          1.666666666666667,
          1.666666666666667
         ]
        }
       ],
       "layout": {
        "autosize": true,
        "scene": {
         "aspectmode": "auto",
         "aspectratio": {
          "x": 1,
          "y": 1,
          "z": 1
         },
         "camera": {
          "center": {
           "x": 0,
           "y": 0,
           "z": 0
          },
          "eye": {
           "x": -0.43845081990327517,
           "y": 1.0392964237120066,
           "z": 0.7491197698479669
          },
          "projection": {
           "type": "perspective"
          },
          "up": {
           "x": 0,
           "y": 0,
           "z": 1
          }
         }
        },
        "template": {
         "data": {
          "bar": [
           {
            "error_x": {
             "color": "#2a3f5f"
            },
            "error_y": {
             "color": "#2a3f5f"
            },
            "marker": {
             "line": {
              "color": "#E5ECF6",
              "width": 0.5
             },
             "pattern": {
              "fillmode": "overlay",
              "size": 10,
              "solidity": 0.2
             }
            },
            "type": "bar"
           }
          ],
          "barpolar": [
           {
            "marker": {
             "line": {
              "color": "#E5ECF6",
              "width": 0.5
             },
             "pattern": {
              "fillmode": "overlay",
              "size": 10,
              "solidity": 0.2
             }
            },
            "type": "barpolar"
           }
          ],
          "carpet": [
           {
            "aaxis": {
             "endlinecolor": "#2a3f5f",
             "gridcolor": "white",
             "linecolor": "white",
             "minorgridcolor": "white",
             "startlinecolor": "#2a3f5f"
            },
            "baxis": {
             "endlinecolor": "#2a3f5f",
             "gridcolor": "white",
             "linecolor": "white",
             "minorgridcolor": "white",
             "startlinecolor": "#2a3f5f"
            },
            "type": "carpet"
           }
          ],
          "choropleth": [
           {
            "colorbar": {
             "outlinewidth": 0,
             "ticks": ""
            },
            "type": "choropleth"
           }
          ],
          "contour": [
           {
            "colorbar": {
             "outlinewidth": 0,
             "ticks": ""
            },
            "colorscale": [
             [
              0,
              "#0d0887"
             ],
             [
              0.1111111111111111,
              "#46039f"
             ],
             [
              0.2222222222222222,
              "#7201a8"
             ],
             [
              0.3333333333333333,
              "#9c179e"
             ],
             [
              0.4444444444444444,
              "#bd3786"
             ],
             [
              0.5555555555555556,
              "#d8576b"
             ],
             [
              0.6666666666666666,
              "#ed7953"
             ],
             [
              0.7777777777777778,
              "#fb9f3a"
             ],
             [
              0.8888888888888888,
              "#fdca26"
             ],
             [
              1,
              "#f0f921"
             ]
            ],
            "type": "contour"
           }
          ],
          "contourcarpet": [
           {
            "colorbar": {
             "outlinewidth": 0,
             "ticks": ""
            },
            "type": "contourcarpet"
           }
          ],
          "heatmap": [
           {
            "colorbar": {
             "outlinewidth": 0,
             "ticks": ""
            },
            "colorscale": [
             [
              0,
              "#0d0887"
             ],
             [
              0.1111111111111111,
              "#46039f"
             ],
             [
              0.2222222222222222,
              "#7201a8"
             ],
             [
              0.3333333333333333,
              "#9c179e"
             ],
             [
              0.4444444444444444,
              "#bd3786"
             ],
             [
              0.5555555555555556,
              "#d8576b"
             ],
             [
              0.6666666666666666,
              "#ed7953"
             ],
             [
              0.7777777777777778,
              "#fb9f3a"
             ],
             [
              0.8888888888888888,
              "#fdca26"
             ],
             [
              1,
              "#f0f921"
             ]
            ],
            "type": "heatmap"
           }
          ],
          "heatmapgl": [
           {
            "colorbar": {
             "outlinewidth": 0,
             "ticks": ""
            },
            "colorscale": [
             [
              0,
              "#0d0887"
             ],
             [
              0.1111111111111111,
              "#46039f"
             ],
             [
              0.2222222222222222,
              "#7201a8"
             ],
             [
              0.3333333333333333,
              "#9c179e"
             ],
             [
              0.4444444444444444,
              "#bd3786"
             ],
             [
              0.5555555555555556,
              "#d8576b"
             ],
             [
              0.6666666666666666,
              "#ed7953"
             ],
             [
              0.7777777777777778,
              "#fb9f3a"
             ],
             [
              0.8888888888888888,
              "#fdca26"
             ],
             [
              1,
              "#f0f921"
             ]
            ],
            "type": "heatmapgl"
           }
          ],
          "histogram": [
           {
            "marker": {
             "pattern": {
              "fillmode": "overlay",
              "size": 10,
              "solidity": 0.2
             }
            },
            "type": "histogram"
           }
          ],
          "histogram2d": [
           {
            "colorbar": {
             "outlinewidth": 0,
             "ticks": ""
            },
            "colorscale": [
             [
              0,
              "#0d0887"
             ],
             [
              0.1111111111111111,
              "#46039f"
             ],
             [
              0.2222222222222222,
              "#7201a8"
             ],
             [
              0.3333333333333333,
              "#9c179e"
             ],
             [
              0.4444444444444444,
              "#bd3786"
             ],
             [
              0.5555555555555556,
              "#d8576b"
             ],
             [
              0.6666666666666666,
              "#ed7953"
             ],
             [
              0.7777777777777778,
              "#fb9f3a"
             ],
             [
              0.8888888888888888,
              "#fdca26"
             ],
             [
              1,
              "#f0f921"
             ]
            ],
            "type": "histogram2d"
           }
          ],
          "histogram2dcontour": [
           {
            "colorbar": {
             "outlinewidth": 0,
             "ticks": ""
            },
            "colorscale": [
             [
              0,
              "#0d0887"
             ],
             [
              0.1111111111111111,
              "#46039f"
             ],
             [
              0.2222222222222222,
              "#7201a8"
             ],
             [
              0.3333333333333333,
              "#9c179e"
             ],
             [
              0.4444444444444444,
              "#bd3786"
             ],
             [
              0.5555555555555556,
              "#d8576b"
             ],
             [
              0.6666666666666666,
              "#ed7953"
             ],
             [
              0.7777777777777778,
              "#fb9f3a"
             ],
             [
              0.8888888888888888,
              "#fdca26"
             ],
             [
              1,
              "#f0f921"
             ]
            ],
            "type": "histogram2dcontour"
           }
          ],
          "mesh3d": [
           {
            "colorbar": {
             "outlinewidth": 0,
             "ticks": ""
            },
            "type": "mesh3d"
           }
          ],
          "parcoords": [
           {
            "line": {
             "colorbar": {
              "outlinewidth": 0,
              "ticks": ""
             }
            },
            "type": "parcoords"
           }
          ],
          "pie": [
           {
            "automargin": true,
            "type": "pie"
           }
          ],
          "scatter": [
           {
            "fillpattern": {
             "fillmode": "overlay",
             "size": 10,
             "solidity": 0.2
            },
            "type": "scatter"
           }
          ],
          "scatter3d": [
           {
            "line": {
             "colorbar": {
              "outlinewidth": 0,
              "ticks": ""
             }
            },
            "marker": {
             "colorbar": {
              "outlinewidth": 0,
              "ticks": ""
             }
            },
            "type": "scatter3d"
           }
          ],
          "scattercarpet": [
           {
            "marker": {
             "colorbar": {
              "outlinewidth": 0,
              "ticks": ""
             }
            },
            "type": "scattercarpet"
           }
          ],
          "scattergeo": [
           {
            "marker": {
             "colorbar": {
              "outlinewidth": 0,
              "ticks": ""
             }
            },
            "type": "scattergeo"
           }
          ],
          "scattergl": [
           {
            "marker": {
             "colorbar": {
              "outlinewidth": 0,
              "ticks": ""
             }
            },
            "type": "scattergl"
           }
          ],
          "scattermapbox": [
           {
            "marker": {
             "colorbar": {
              "outlinewidth": 0,
              "ticks": ""
             }
            },
            "type": "scattermapbox"
           }
          ],
          "scatterpolar": [
           {
            "marker": {
             "colorbar": {
              "outlinewidth": 0,
              "ticks": ""
             }
            },
            "type": "scatterpolar"
           }
          ],
          "scatterpolargl": [
           {
            "marker": {
             "colorbar": {
              "outlinewidth": 0,
              "ticks": ""
             }
            },
            "type": "scatterpolargl"
           }
          ],
          "scatterternary": [
           {
            "marker": {
             "colorbar": {
              "outlinewidth": 0,
              "ticks": ""
             }
            },
            "type": "scatterternary"
           }
          ],
          "surface": [
           {
            "colorbar": {
             "outlinewidth": 0,
             "ticks": ""
            },
            "colorscale": [
             [
              0,
              "#0d0887"
             ],
             [
              0.1111111111111111,
              "#46039f"
             ],
             [
              0.2222222222222222,
              "#7201a8"
             ],
             [
              0.3333333333333333,
              "#9c179e"
             ],
             [
              0.4444444444444444,
              "#bd3786"
             ],
             [
              0.5555555555555556,
              "#d8576b"
             ],
             [
              0.6666666666666666,
              "#ed7953"
             ],
             [
              0.7777777777777778,
              "#fb9f3a"
             ],
             [
              0.8888888888888888,
              "#fdca26"
             ],
             [
              1,
              "#f0f921"
             ]
            ],
            "type": "surface"
           }
          ],
          "table": [
           {
            "cells": {
             "fill": {
              "color": "#EBF0F8"
             },
             "line": {
              "color": "white"
             }
            },
            "header": {
             "fill": {
              "color": "#C8D4E3"
             },
             "line": {
              "color": "white"
             }
            },
            "type": "table"
           }
          ]
         },
         "layout": {
          "annotationdefaults": {
           "arrowcolor": "#2a3f5f",
           "arrowhead": 0,
           "arrowwidth": 1
          },
          "autotypenumbers": "strict",
          "coloraxis": {
           "colorbar": {
            "outlinewidth": 0,
            "ticks": ""
           }
          },
          "colorscale": {
           "diverging": [
            [
             0,
             "#8e0152"
            ],
            [
             0.1,
             "#c51b7d"
            ],
            [
             0.2,
             "#de77ae"
            ],
            [
             0.3,
             "#f1b6da"
            ],
            [
             0.4,
             "#fde0ef"
            ],
            [
             0.5,
             "#f7f7f7"
            ],
            [
             0.6,
             "#e6f5d0"
            ],
            [
             0.7,
             "#b8e186"
            ],
            [
             0.8,
             "#7fbc41"
            ],
            [
             0.9,
             "#4d9221"
            ],
            [
             1,
             "#276419"
            ]
           ],
           "sequential": [
            [
             0,
             "#0d0887"
            ],
            [
             0.1111111111111111,
             "#46039f"
            ],
            [
             0.2222222222222222,
             "#7201a8"
            ],
            [
             0.3333333333333333,
             "#9c179e"
            ],
            [
             0.4444444444444444,
             "#bd3786"
            ],
            [
             0.5555555555555556,
             "#d8576b"
            ],
            [
             0.6666666666666666,
             "#ed7953"
            ],
            [
             0.7777777777777778,
             "#fb9f3a"
            ],
            [
             0.8888888888888888,
             "#fdca26"
            ],
            [
             1,
             "#f0f921"
            ]
           ],
           "sequentialminus": [
            [
             0,
             "#0d0887"
            ],
            [
             0.1111111111111111,
             "#46039f"
            ],
            [
             0.2222222222222222,
             "#7201a8"
            ],
            [
             0.3333333333333333,
             "#9c179e"
            ],
            [
             0.4444444444444444,
             "#bd3786"
            ],
            [
             0.5555555555555556,
             "#d8576b"
            ],
            [
             0.6666666666666666,
             "#ed7953"
            ],
            [
             0.7777777777777778,
             "#fb9f3a"
            ],
            [
             0.8888888888888888,
             "#fdca26"
            ],
            [
             1,
             "#f0f921"
            ]
           ]
          },
          "colorway": [
           "#636efa",
           "#EF553B",
           "#00cc96",
           "#ab63fa",
           "#FFA15A",
           "#19d3f3",
           "#FF6692",
           "#B6E880",
           "#FF97FF",
           "#FECB52"
          ],
          "font": {
           "color": "#2a3f5f"
          },
          "geo": {
           "bgcolor": "white",
           "lakecolor": "white",
           "landcolor": "#E5ECF6",
           "showlakes": true,
           "showland": true,
           "subunitcolor": "white"
          },
          "hoverlabel": {
           "align": "left"
          },
          "hovermode": "closest",
          "mapbox": {
           "style": "light"
          },
          "paper_bgcolor": "white",
          "plot_bgcolor": "#E5ECF6",
          "polar": {
           "angularaxis": {
            "gridcolor": "white",
            "linecolor": "white",
            "ticks": ""
           },
           "bgcolor": "#E5ECF6",
           "radialaxis": {
            "gridcolor": "white",
            "linecolor": "white",
            "ticks": ""
           }
          },
          "scene": {
           "xaxis": {
            "backgroundcolor": "#E5ECF6",
            "gridcolor": "white",
            "gridwidth": 2,
            "linecolor": "white",
            "showbackground": true,
            "ticks": "",
            "zerolinecolor": "white"
           },
           "yaxis": {
            "backgroundcolor": "#E5ECF6",
            "gridcolor": "white",
            "gridwidth": 2,
            "linecolor": "white",
            "showbackground": true,
            "ticks": "",
            "zerolinecolor": "white"
           },
           "zaxis": {
            "backgroundcolor": "#E5ECF6",
            "gridcolor": "white",
            "gridwidth": 2,
            "linecolor": "white",
            "showbackground": true,
            "ticks": "",
            "zerolinecolor": "white"
           }
          },
          "shapedefaults": {
           "line": {
            "color": "#2a3f5f"
           }
          },
          "ternary": {
           "aaxis": {
            "gridcolor": "white",
            "linecolor": "white",
            "ticks": ""
           },
           "baxis": {
            "gridcolor": "white",
            "linecolor": "white",
            "ticks": ""
           },
           "bgcolor": "#E5ECF6",
           "caxis": {
            "gridcolor": "white",
            "linecolor": "white",
            "ticks": ""
           }
          },
          "title": {
           "x": 0.05
          },
          "xaxis": {
           "automargin": true,
           "gridcolor": "white",
           "linecolor": "white",
           "ticks": "",
           "title": {
            "standoff": 15
           },
           "zerolinecolor": "white",
           "zerolinewidth": 2
          },
          "yaxis": {
           "automargin": true,
           "gridcolor": "white",
           "linecolor": "white",
           "ticks": "",
           "title": {
            "standoff": 15
           },
           "zerolinecolor": "white",
           "zerolinewidth": 2
          }
         }
        }
       }
      },
      "text/html": [
       "<div>                            <div id=\"b4ca9332-e737-4f46-8eb6-ffcc7a96ffdb\" class=\"plotly-graph-div\" style=\"height:525px; width:100%;\"></div>            <script type=\"text/javascript\">                require([\"plotly\"], function(Plotly) {                    window.PLOTLYENV=window.PLOTLYENV || {};                                    if (document.getElementById(\"b4ca9332-e737-4f46-8eb6-ffcc7a96ffdb\")) {                    Plotly.newPlot(                        \"b4ca9332-e737-4f46-8eb6-ffcc7a96ffdb\",                        [{\"color\":\"lightblue\",\"i\":[0,8,1,9,2,10,3,11,4,12,5,13,6,14],\"j\":[1,9,2,10,3,11,4,12,5,13,6,14,7,15],\"k\":[8,1,9,2,10,3,11,4,12,5,13,6,14,7],\"opacity\":1,\"x\":[0.28366218546322625,0.17686047980928227,-0.06312077443736636,-0.25557079810352895,-0.255570798103529,-0.06312077443736643,0.1768604798092822,0.28366218546322625,-0.09572354801437544,-0.059682655984697915,0.021300493305770923,0.08624393668611469,0.0862439366861147,0.021300493305770943,-0.059682655984697894,-0.09572354801437544],\"y\":[0.0,0.2217760269808354,0.2765501822385964,0.12307640967504288,-0.12307640967504281,-0.2765501822385964,-0.22177602698083543,-6.947719749333657e-17,-0.0,-0.07483968345117878,-0.0933235588122916,-0.04153289093407633,0.04153289093407631,0.0933235588122916,0.07483968345117879,2.3445507335766573e-17],\"z\":[-5.0,-5.0,-5.0,-5.0,-5.0,-5.0,-5.0,-5.0,-1.6666666666666665,-1.6666666666666665,-1.6666666666666665,-1.6666666666666665,-1.6666666666666665,-1.6666666666666665,-1.6666666666666665,-1.6666666666666665],\"type\":\"mesh3d\"},{\"color\":\"lightblue\",\"i\":[0,8,1,9,2,10,3,11,4,12,5,13,6,14],\"j\":[1,9,2,10,3,11,4,12,5,13,6,14,7,15],\"k\":[8,1,9,2,10,3,11,4,12,5,13,6,14,7],\"opacity\":1,\"x\":[-0.09572354801437544,-0.059682655984697915,0.021300493305770923,0.08624393668611469,0.0862439366861147,0.021300493305770943,-0.059682655984697894,-0.09572354801437544,-0.09572354801437588,-0.05968265598469819,0.02130049330577102,0.08624393668611509,0.0862439366861151,0.021300493305771044,-0.05968265598469817,-0.09572354801437588],\"y\":[-0.0,-0.07483968345117878,-0.0933235588122916,-0.04153289093407633,0.04153289093407631,0.0933235588122916,0.07483968345117879,2.3445507335766573e-17,-0.0,-0.07483968345117913,-0.09332355881229203,-0.04153289093407653,0.0415328909340765,0.09332355881229203,0.07483968345117914,2.344550733576668e-17],\"z\":[-1.6666666666666665,-1.6666666666666665,-1.6666666666666665,-1.6666666666666665,-1.6666666666666665,-1.6666666666666665,-1.6666666666666665,-1.6666666666666665,1.666666666666667,1.666666666666667,1.666666666666667,1.666666666666667,1.666666666666667,1.666666666666667,1.666666666666667,1.666666666666667],\"type\":\"mesh3d\"}],                        {\"template\":{\"data\":{\"histogram2dcontour\":[{\"type\":\"histogram2dcontour\",\"colorbar\":{\"outlinewidth\":0,\"ticks\":\"\"},\"colorscale\":[[0.0,\"#0d0887\"],[0.1111111111111111,\"#46039f\"],[0.2222222222222222,\"#7201a8\"],[0.3333333333333333,\"#9c179e\"],[0.4444444444444444,\"#bd3786\"],[0.5555555555555556,\"#d8576b\"],[0.6666666666666666,\"#ed7953\"],[0.7777777777777778,\"#fb9f3a\"],[0.8888888888888888,\"#fdca26\"],[1.0,\"#f0f921\"]]}],\"choropleth\":[{\"type\":\"choropleth\",\"colorbar\":{\"outlinewidth\":0,\"ticks\":\"\"}}],\"histogram2d\":[{\"type\":\"histogram2d\",\"colorbar\":{\"outlinewidth\":0,\"ticks\":\"\"},\"colorscale\":[[0.0,\"#0d0887\"],[0.1111111111111111,\"#46039f\"],[0.2222222222222222,\"#7201a8\"],[0.3333333333333333,\"#9c179e\"],[0.4444444444444444,\"#bd3786\"],[0.5555555555555556,\"#d8576b\"],[0.6666666666666666,\"#ed7953\"],[0.7777777777777778,\"#fb9f3a\"],[0.8888888888888888,\"#fdca26\"],[1.0,\"#f0f921\"]]}],\"heatmap\":[{\"type\":\"heatmap\",\"colorbar\":{\"outlinewidth\":0,\"ticks\":\"\"},\"colorscale\":[[0.0,\"#0d0887\"],[0.1111111111111111,\"#46039f\"],[0.2222222222222222,\"#7201a8\"],[0.3333333333333333,\"#9c179e\"],[0.4444444444444444,\"#bd3786\"],[0.5555555555555556,\"#d8576b\"],[0.6666666666666666,\"#ed7953\"],[0.7777777777777778,\"#fb9f3a\"],[0.8888888888888888,\"#fdca26\"],[1.0,\"#f0f921\"]]}],\"heatmapgl\":[{\"type\":\"heatmapgl\",\"colorbar\":{\"outlinewidth\":0,\"ticks\":\"\"},\"colorscale\":[[0.0,\"#0d0887\"],[0.1111111111111111,\"#46039f\"],[0.2222222222222222,\"#7201a8\"],[0.3333333333333333,\"#9c179e\"],[0.4444444444444444,\"#bd3786\"],[0.5555555555555556,\"#d8576b\"],[0.6666666666666666,\"#ed7953\"],[0.7777777777777778,\"#fb9f3a\"],[0.8888888888888888,\"#fdca26\"],[1.0,\"#f0f921\"]]}],\"contourcarpet\":[{\"type\":\"contourcarpet\",\"colorbar\":{\"outlinewidth\":0,\"ticks\":\"\"}}],\"contour\":[{\"type\":\"contour\",\"colorbar\":{\"outlinewidth\":0,\"ticks\":\"\"},\"colorscale\":[[0.0,\"#0d0887\"],[0.1111111111111111,\"#46039f\"],[0.2222222222222222,\"#7201a8\"],[0.3333333333333333,\"#9c179e\"],[0.4444444444444444,\"#bd3786\"],[0.5555555555555556,\"#d8576b\"],[0.6666666666666666,\"#ed7953\"],[0.7777777777777778,\"#fb9f3a\"],[0.8888888888888888,\"#fdca26\"],[1.0,\"#f0f921\"]]}],\"surface\":[{\"type\":\"surface\",\"colorbar\":{\"outlinewidth\":0,\"ticks\":\"\"},\"colorscale\":[[0.0,\"#0d0887\"],[0.1111111111111111,\"#46039f\"],[0.2222222222222222,\"#7201a8\"],[0.3333333333333333,\"#9c179e\"],[0.4444444444444444,\"#bd3786\"],[0.5555555555555556,\"#d8576b\"],[0.6666666666666666,\"#ed7953\"],[0.7777777777777778,\"#fb9f3a\"],[0.8888888888888888,\"#fdca26\"],[1.0,\"#f0f921\"]]}],\"mesh3d\":[{\"type\":\"mesh3d\",\"colorbar\":{\"outlinewidth\":0,\"ticks\":\"\"}}],\"scatter\":[{\"fillpattern\":{\"fillmode\":\"overlay\",\"size\":10,\"solidity\":0.2},\"type\":\"scatter\"}],\"parcoords\":[{\"type\":\"parcoords\",\"line\":{\"colorbar\":{\"outlinewidth\":0,\"ticks\":\"\"}}}],\"scatterpolargl\":[{\"type\":\"scatterpolargl\",\"marker\":{\"colorbar\":{\"outlinewidth\":0,\"ticks\":\"\"}}}],\"bar\":[{\"error_x\":{\"color\":\"#2a3f5f\"},\"error_y\":{\"color\":\"#2a3f5f\"},\"marker\":{\"line\":{\"color\":\"#E5ECF6\",\"width\":0.5},\"pattern\":{\"fillmode\":\"overlay\",\"size\":10,\"solidity\":0.2}},\"type\":\"bar\"}],\"scattergeo\":[{\"type\":\"scattergeo\",\"marker\":{\"colorbar\":{\"outlinewidth\":0,\"ticks\":\"\"}}}],\"scatterpolar\":[{\"type\":\"scatterpolar\",\"marker\":{\"colorbar\":{\"outlinewidth\":0,\"ticks\":\"\"}}}],\"histogram\":[{\"marker\":{\"pattern\":{\"fillmode\":\"overlay\",\"size\":10,\"solidity\":0.2}},\"type\":\"histogram\"}],\"scattergl\":[{\"type\":\"scattergl\",\"marker\":{\"colorbar\":{\"outlinewidth\":0,\"ticks\":\"\"}}}],\"scatter3d\":[{\"type\":\"scatter3d\",\"line\":{\"colorbar\":{\"outlinewidth\":0,\"ticks\":\"\"}},\"marker\":{\"colorbar\":{\"outlinewidth\":0,\"ticks\":\"\"}}}],\"scattermapbox\":[{\"type\":\"scattermapbox\",\"marker\":{\"colorbar\":{\"outlinewidth\":0,\"ticks\":\"\"}}}],\"scatterternary\":[{\"type\":\"scatterternary\",\"marker\":{\"colorbar\":{\"outlinewidth\":0,\"ticks\":\"\"}}}],\"scattercarpet\":[{\"type\":\"scattercarpet\",\"marker\":{\"colorbar\":{\"outlinewidth\":0,\"ticks\":\"\"}}}],\"carpet\":[{\"aaxis\":{\"endlinecolor\":\"#2a3f5f\",\"gridcolor\":\"white\",\"linecolor\":\"white\",\"minorgridcolor\":\"white\",\"startlinecolor\":\"#2a3f5f\"},\"baxis\":{\"endlinecolor\":\"#2a3f5f\",\"gridcolor\":\"white\",\"linecolor\":\"white\",\"minorgridcolor\":\"white\",\"startlinecolor\":\"#2a3f5f\"},\"type\":\"carpet\"}],\"table\":[{\"cells\":{\"fill\":{\"color\":\"#EBF0F8\"},\"line\":{\"color\":\"white\"}},\"header\":{\"fill\":{\"color\":\"#C8D4E3\"},\"line\":{\"color\":\"white\"}},\"type\":\"table\"}],\"barpolar\":[{\"marker\":{\"line\":{\"color\":\"#E5ECF6\",\"width\":0.5},\"pattern\":{\"fillmode\":\"overlay\",\"size\":10,\"solidity\":0.2}},\"type\":\"barpolar\"}],\"pie\":[{\"automargin\":true,\"type\":\"pie\"}]},\"layout\":{\"autotypenumbers\":\"strict\",\"colorway\":[\"#636efa\",\"#EF553B\",\"#00cc96\",\"#ab63fa\",\"#FFA15A\",\"#19d3f3\",\"#FF6692\",\"#B6E880\",\"#FF97FF\",\"#FECB52\"],\"font\":{\"color\":\"#2a3f5f\"},\"hovermode\":\"closest\",\"hoverlabel\":{\"align\":\"left\"},\"paper_bgcolor\":\"white\",\"plot_bgcolor\":\"#E5ECF6\",\"polar\":{\"bgcolor\":\"#E5ECF6\",\"angularaxis\":{\"gridcolor\":\"white\",\"linecolor\":\"white\",\"ticks\":\"\"},\"radialaxis\":{\"gridcolor\":\"white\",\"linecolor\":\"white\",\"ticks\":\"\"}},\"ternary\":{\"bgcolor\":\"#E5ECF6\",\"aaxis\":{\"gridcolor\":\"white\",\"linecolor\":\"white\",\"ticks\":\"\"},\"baxis\":{\"gridcolor\":\"white\",\"linecolor\":\"white\",\"ticks\":\"\"},\"caxis\":{\"gridcolor\":\"white\",\"linecolor\":\"white\",\"ticks\":\"\"}},\"coloraxis\":{\"colorbar\":{\"outlinewidth\":0,\"ticks\":\"\"}},\"colorscale\":{\"sequential\":[[0.0,\"#0d0887\"],[0.1111111111111111,\"#46039f\"],[0.2222222222222222,\"#7201a8\"],[0.3333333333333333,\"#9c179e\"],[0.4444444444444444,\"#bd3786\"],[0.5555555555555556,\"#d8576b\"],[0.6666666666666666,\"#ed7953\"],[0.7777777777777778,\"#fb9f3a\"],[0.8888888888888888,\"#fdca26\"],[1.0,\"#f0f921\"]],\"sequentialminus\":[[0.0,\"#0d0887\"],[0.1111111111111111,\"#46039f\"],[0.2222222222222222,\"#7201a8\"],[0.3333333333333333,\"#9c179e\"],[0.4444444444444444,\"#bd3786\"],[0.5555555555555556,\"#d8576b\"],[0.6666666666666666,\"#ed7953\"],[0.7777777777777778,\"#fb9f3a\"],[0.8888888888888888,\"#fdca26\"],[1.0,\"#f0f921\"]],\"diverging\":[[0,\"#8e0152\"],[0.1,\"#c51b7d\"],[0.2,\"#de77ae\"],[0.3,\"#f1b6da\"],[0.4,\"#fde0ef\"],[0.5,\"#f7f7f7\"],[0.6,\"#e6f5d0\"],[0.7,\"#b8e186\"],[0.8,\"#7fbc41\"],[0.9,\"#4d9221\"],[1,\"#276419\"]]},\"xaxis\":{\"gridcolor\":\"white\",\"linecolor\":\"white\",\"ticks\":\"\",\"title\":{\"standoff\":15},\"zerolinecolor\":\"white\",\"automargin\":true,\"zerolinewidth\":2},\"yaxis\":{\"gridcolor\":\"white\",\"linecolor\":\"white\",\"ticks\":\"\",\"title\":{\"standoff\":15},\"zerolinecolor\":\"white\",\"automargin\":true,\"zerolinewidth\":2},\"scene\":{\"xaxis\":{\"backgroundcolor\":\"#E5ECF6\",\"gridcolor\":\"white\",\"linecolor\":\"white\",\"showbackground\":true,\"ticks\":\"\",\"zerolinecolor\":\"white\",\"gridwidth\":2},\"yaxis\":{\"backgroundcolor\":\"#E5ECF6\",\"gridcolor\":\"white\",\"linecolor\":\"white\",\"showbackground\":true,\"ticks\":\"\",\"zerolinecolor\":\"white\",\"gridwidth\":2},\"zaxis\":{\"backgroundcolor\":\"#E5ECF6\",\"gridcolor\":\"white\",\"linecolor\":\"white\",\"showbackground\":true,\"ticks\":\"\",\"zerolinecolor\":\"white\",\"gridwidth\":2}},\"shapedefaults\":{\"line\":{\"color\":\"#2a3f5f\"}},\"annotationdefaults\":{\"arrowcolor\":\"#2a3f5f\",\"arrowhead\":0,\"arrowwidth\":1},\"geo\":{\"bgcolor\":\"white\",\"landcolor\":\"#E5ECF6\",\"subunitcolor\":\"white\",\"showland\":true,\"showlakes\":true,\"lakecolor\":\"white\"},\"title\":{\"x\":0.05},\"mapbox\":{\"style\":\"light\"}}}},                        {\"responsive\": true}                    ).then(function(){\n",
       "                            \n",
       "var gd = document.getElementById('b4ca9332-e737-4f46-8eb6-ffcc7a96ffdb');\n",
       "var x = new MutationObserver(function (mutations, observer) {{\n",
       "        var display = window.getComputedStyle(gd).display;\n",
       "        if (!display || display === 'none') {{\n",
       "            console.log([gd, 'removed!']);\n",
       "            Plotly.purge(gd);\n",
       "            observer.disconnect();\n",
       "        }}\n",
       "}});\n",
       "\n",
       "// Listen for the removal of the full notebook cells\n",
       "var notebookContainer = gd.closest('#notebook-container');\n",
       "if (notebookContainer) {{\n",
       "    x.observe(notebookContainer, {childList: true});\n",
       "}}\n",
       "\n",
       "// Listen for the clearing of the current output cell\n",
       "var outputEl = gd.closest('.output');\n",
       "if (outputEl) {{\n",
       "    x.observe(outputEl, {childList: true});\n",
       "}}\n",
       "\n",
       "                        })                };                });            </script>        </div>"
      ]
     },
     "metadata": {},
     "output_type": "display_data"
    }
   ],
   "source": [
    "plot.show()"
   ]
  },
  {
   "cell_type": "code",
   "execution_count": null,
   "id": "044fd1d4-80ea-4b35-8037-6a4496d8fb8c",
   "metadata": {},
   "outputs": [],
   "source": []
  },
  {
   "cell_type": "code",
   "execution_count": 205,
   "id": "e919ce05-328b-4f42-84c5-675c87970e4c",
   "metadata": {},
   "outputs": [],
   "source": [
    "all_vertices = [item for sublist in traces for item in sublist]\n",
    "mesh = go.Mesh3d(x=[v[0] for v in all_vertices],\n",
    "                 y=[v[1] for v in all_vertices],\n",
    "                 z=[v[2] for v in all_vertices],\n",
    "                 i=[f[0] for f in faces],\n",
    "                 j=[f[1] for f in faces],\n",
    "                 k=[f[2] for f in faces],\n",
    "                 color='lightblue',  # Color of the face\n",
    "                 opacity=0.7)        # Opacity of the face"
   ]
  },
  {
   "cell_type": "code",
   "execution_count": 206,
   "id": "bb2df81f-f070-4623-aa32-ac617f3f9fca",
   "metadata": {},
   "outputs": [],
   "source": [
    "plot = go.Figure()\n",
    "\n",
    "for z in z_list:\n",
    "    x = circ_x*np.cos(z)\n",
    "    y = circ_y*np.cos(z)\n",
    "    z = [z] * len(x)\n",
    "    plot.add_scatter3d(x=x, y=y, z=z, mode='lines')"
   ]
  },
  {
   "cell_type": "code",
   "execution_count": null,
   "id": "11c71fc4-48e7-4ed6-bcd8-52b98f5eb53c",
   "metadata": {},
   "outputs": [],
   "source": []
  },
  {
   "cell_type": "code",
   "execution_count": null,
   "id": "8bc7d665-20d6-4bd7-bb92-c23b82540bca",
   "metadata": {},
   "outputs": [],
   "source": []
  }
 ],
 "metadata": {
  "kernelspec": {
   "display_name": "pfse",
   "language": "python",
   "name": "pfse"
  },
  "language_info": {
   "codemirror_mode": {
    "name": "ipython",
    "version": 3
   },
   "file_extension": ".py",
   "mimetype": "text/x-python",
   "name": "python",
   "nbconvert_exporter": "python",
   "pygments_lexer": "ipython3",
   "version": "3.11.7"
  }
 },
 "nbformat": 4,
 "nbformat_minor": 5
}
