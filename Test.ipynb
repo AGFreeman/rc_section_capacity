{
 "cells": [
  {
   "cell_type": "code",
   "execution_count": 5,
   "id": "0b69655a-501b-47a3-a85f-5fefa36b9ea0",
   "metadata": {},
   "outputs": [],
   "source": [
    "import rich\n",
    "from eng_module import utils as ut\n",
    "import rc_section_capacity_module as rcscm\n",
    "# from rc_section_capacity_module import concrete_section_analysis"
   ]
  },
  {
   "cell_type": "code",
   "execution_count": 6,
   "id": "d2cd4ce1-8f78-4cd6-9e97-ee70f2ac8e35",
   "metadata": {},
   "outputs": [],
   "source": [
    "conc_mat_data_list = rcscm.read_concrete_material_csv()\n",
    "\n",
    "conc_mat_names = []\n",
    "for dataline in conc_mat_data_list[1:]:\n",
    "    conc_mat_names.append(dataline[0])\n",
    "    \n",
    "conc_class: str = 'B30'"
   ]
  },
  {
   "cell_type": "code",
   "execution_count": 7,
   "id": "f00eb137-ef6c-4032-882b-f9dab9b94666",
   "metadata": {},
   "outputs": [
    {
     "data": {
      "text/plain": [
       "['B3,5',\n",
       " 'B5',\n",
       " 'B7,5',\n",
       " 'B10',\n",
       " 'B12,5',\n",
       " 'B15',\n",
       " 'B20',\n",
       " 'B25',\n",
       " 'B30',\n",
       " 'B35',\n",
       " 'B40',\n",
       " 'B45',\n",
       " 'B50',\n",
       " 'B55',\n",
       " 'B60',\n",
       " 'B70',\n",
       " 'B80',\n",
       " 'B90',\n",
       " 'B100']"
      ]
     },
     "execution_count": 7,
     "metadata": {},
     "output_type": "execute_result"
    }
   ],
   "source": [
    "conc_mat_names"
   ]
  },
  {
   "cell_type": "code",
   "execution_count": 8,
   "id": "608516dd-bb19-4d46-a5b2-ddad86c3a8b3",
   "metadata": {},
   "outputs": [],
   "source": [
    "for line in conc_mat_data:\n",
    "    if conc_class == line[0]:\n",
    "        Rbn = line[1]\n",
    "        Rbtn = line[2]\n",
    "        Rb = line[3]\n",
    "        Rbt = line[4]\n",
    "        Eb = line[5]\n",
    "        eps_b0_st = line[6]\n",
    "        eps_b0_lt_to45 = line[7]\n",
    "        eps_b0_lt_40to75 = line[8]\n",
    "        eps_b0_lt_75up = line[9]\n",
    "        eps_b2_lt_to45 = line[10]\n",
    "        eps_b2_lt_40to75 = line[11]\n",
    "        eps_b2_lt_75up = line[12]\n",
    "        eps_b1red_lt_to45 = line[13]\n",
    "        eps_b1red_lt_40to75 = line[14]\n",
    "        eps_b1red_lt_75up = line[15]\n",
    "        eps_bt0_st = line[16]\n",
    "        eps_bt0_lt_to45 = line[17]\n",
    "        eps_bt0_lt_40to75 = line[18]\n",
    "        eps_bt0_lt_75up = line[19]\n",
    "        eps_bt2_lt_to45 = line[20]\n",
    "        eps_bt2_lt_40to75 = line[21]\n",
    "        eps_bt2_lt_75up = line[22]\n",
    "        eps_bt1red_lt_to45 = line[23]\n",
    "        eps_bt1red_lt_40to75 = line[24]\n",
    "        eps_bt1red_lt_75up = line[25]\n",
    "        eps_b2_st = line[26]\n",
    "        eps_b1red_st = line[27]\n",
    "        eps_bt2_st = line[28]\n",
    "        eps_bt1red = line[29]"
   ]
  },
  {
   "cell_type": "code",
   "execution_count": 9,
   "id": "51616852-5773-4030-8d5a-3ddbc3309760",
   "metadata": {},
   "outputs": [
    {
     "data": {
      "text/plain": [
       "'0.00027'"
      ]
     },
     "execution_count": 9,
     "metadata": {},
     "output_type": "execute_result"
    }
   ],
   "source": [
    "eps_bt2_lt_to45"
   ]
  },
  {
   "cell_type": "code",
   "execution_count": 25,
   "id": "e4fac379-6723-49f1-860c-a0229e7747ca",
   "metadata": {},
   "outputs": [
    {
     "data": {
      "text/plain": [
       "['B3',\n",
       " '5;2.7;0.39;2.1;0.26;260;0.002;0.003;0.0034;0.004;0.0042;0.0048;0.0056;0.0024;0.0028;0.0034;0.0001;0.00021;0.00024;0.00028;0.00027;0.00031;0.00036;0.00019;0.00022;0.00026;0.0035;0.0015;0.00015;0.00008']"
      ]
     },
     "execution_count": 25,
     "metadata": {},
     "output_type": "execute_result"
    }
   ],
   "source": [
    "conc_mat_data[1]"
   ]
  },
  {
   "cell_type": "code",
   "execution_count": null,
   "id": "eae28a3c-cfe0-4cf4-a5dc-8e21459fc9e8",
   "metadata": {},
   "outputs": [],
   "source": []
  }
 ],
 "metadata": {
  "kernelspec": {
   "display_name": "Python 3.10 (pfse)",
   "language": "python",
   "name": "pfse"
  },
  "language_info": {
   "codemirror_mode": {
    "name": "ipython",
    "version": 3
   },
   "file_extension": ".py",
   "mimetype": "text/x-python",
   "name": "python",
   "nbconvert_exporter": "python",
   "pygments_lexer": "ipython3",
   "version": "3.11.7"
  }
 },
 "nbformat": 4,
 "nbformat_minor": 5
}
